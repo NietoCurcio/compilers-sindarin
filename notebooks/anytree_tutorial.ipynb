{
 "cells": [
  {
   "cell_type": "code",
   "execution_count": 31,
   "metadata": {},
   "outputs": [],
   "source": [
    "import graphviz\n",
    "from anytree import Node, RenderTree\n",
    "from anytree.exporter import DotExporter\n",
    "from IPython.display import Image"
   ]
  },
  {
   "cell_type": "code",
   "execution_count": 32,
   "metadata": {},
   "outputs": [],
   "source": [
    "root = Node(\"4\")\n",
    "\n",
    "node2 = Node(\"2\", parent=root)\n",
    "node1 = Node(\"1\", parent=node2)\n",
    "node3 = Node(\"3\", parent=node2)\n",
    "\n",
    "node6 = Node(\"6\", parent=root)\n",
    "# node7 = Node(\"7\", parent=node6) insertion order matters\n",
    "# it creates:\n",
    "#   6\n",
    "#  / \\\n",
    "# 7   5\n",
    "node5 = Node(\"5\", parent=node6)\n",
    "# node5 = Node(\"7\", parent=node6) # we must uniquely identify the node\n",
    "node7 = Node(\"7\", parent=node6)\n",
    "# order of insertion matters\n",
    "# it creates:\n",
    "#   6\n",
    "#  / \\\n",
    "# 5   7\n"
   ]
  },
  {
   "cell_type": "code",
   "execution_count": 33,
   "metadata": {},
   "outputs": [
    {
     "name": "stdout",
     "output_type": "stream",
     "text": [
      "4\n"
     ]
    }
   ],
   "source": [
    "print(root.name)"
   ]
  },
  {
   "cell_type": "code",
   "execution_count": 34,
   "metadata": {},
   "outputs": [
    {
     "name": "stdout",
     "output_type": "stream",
     "text": [
      "4\n",
      "├── 2\n",
      "│   ├── 1\n",
      "│   └── 3\n",
      "└── 6\n",
      "    ├── 5\n",
      "    └── 7\n"
     ]
    }
   ],
   "source": [
    "for pre, fill, node in RenderTree(root):\n",
    "    print(f\"{pre}{node.name}\")"
   ]
  },
  {
   "cell_type": "code",
   "execution_count": 35,
   "metadata": {},
   "outputs": [],
   "source": [
    "def preorder(node):\n",
    "    if not node:\n",
    "        return\n",
    "    print(node.name, end=\" \")\n",
    "    for child in node.children:\n",
    "        preorder(child)\n",
    "\n",
    "\n",
    "def inorder(node):\n",
    "    if not node:\n",
    "        return\n",
    "\n",
    "    children = node.children\n",
    "    if len(children) > 0:\n",
    "        inorder(children[0])\n",
    "    print(node.name, end=\" \")\n",
    "    if len(children) > 1:\n",
    "        inorder(children[1])\n",
    "\n",
    "\n",
    "def postorder(node):\n",
    "    if not node:\n",
    "        return\n",
    "    for child in node.children:\n",
    "        postorder(child)\n",
    "    print(node.name, end=\" \")"
   ]
  },
  {
   "cell_type": "code",
   "execution_count": 36,
   "metadata": {},
   "outputs": [
    {
     "name": "stdout",
     "output_type": "stream",
     "text": [
      "4 2 1 3 6 5 7 "
     ]
    }
   ],
   "source": [
    "preorder(root)"
   ]
  },
  {
   "cell_type": "code",
   "execution_count": 37,
   "metadata": {},
   "outputs": [
    {
     "name": "stdout",
     "output_type": "stream",
     "text": [
      "1 2 3 4 5 6 7 "
     ]
    }
   ],
   "source": [
    "inorder(root)"
   ]
  },
  {
   "cell_type": "code",
   "execution_count": 38,
   "metadata": {},
   "outputs": [
    {
     "name": "stdout",
     "output_type": "stream",
     "text": [
      "1 3 2 5 7 6 4 "
     ]
    }
   ],
   "source": [
    "postorder(root)"
   ]
  },
  {
   "cell_type": "code",
   "execution_count": 39,
   "metadata": {},
   "outputs": [
    {
     "name": "stdout",
     "output_type": "stream",
     "text": [
      "\n",
      "Tree visualization saved as 'tree_visualization.png'\n"
     ]
    }
   ],
   "source": [
    "DotExporter(root).to_picture(\"tree_visualization.png\")\n",
    "print(\"\\nTree visualization saved as 'tree_visualization.png'\")"
   ]
  },
  {
   "cell_type": "code",
   "execution_count": 40,
   "metadata": {},
   "outputs": [
    {
     "name": "stdout",
     "output_type": "stream",
     "text": [
      "\n",
      "Manual tree visualization saved as 'manual_tree_visualization.png'\n"
     ]
    }
   ],
   "source": [
    "def create_graphviz_tree():\n",
    "    dot = graphviz.Digraph(format=\"png\")\n",
    "\n",
    "    def add_nodes_edges(node: Node):\n",
    "        dot.node(node.name)\n",
    "        for child in node.children:\n",
    "            dot.edge(node.name, child.name)\n",
    "            add_nodes_edges(child)\n",
    "\n",
    "    add_nodes_edges(root)\n",
    "    dot.render(\"manual_tree_visualization\")\n",
    "    print(\"\\nManual tree visualization saved as 'manual_tree_visualization.png'\")\n",
    "\n",
    "\n",
    "create_graphviz_tree()"
   ]
  },
  {
   "cell_type": "code",
   "execution_count": 41,
   "metadata": {},
   "outputs": [
    {
     "data": {
      "image/png": "[encoded data removed]",
      "text/plain": [
       "<IPython.core.display.Image object>"
      ]
     },
     "execution_count": 41,
     "metadata": {},
     "output_type": "execute_result"
    }
   ],
   "source": [
    "Image(\"manual_tree_visualization.png\")"
   ]
  },
  {
   "cell_type": "code",
   "execution_count": 42,
   "metadata": {},
   "outputs": [
    {
     "name": "stdout",
     "output_type": "stream",
     "text": [
      "3\n",
      "139643893230640\n"
     ]
    }
   ],
   "source": [
    "class A:\n",
    "    def __init__(self):\n",
    "        self.x = [1, 2, 3]\n",
    "\n",
    "    def __len__(self):\n",
    "        return len(self.x)\n",
    "\n",
    "    def __id__(self):\n",
    "        return str(id(self.x)) + \"felipe\"\n",
    "\n",
    "\n",
    "a = A()\n",
    "print(len(a))\n",
    "print(id(a))"
   ]
  }
 ],
 "metadata": {
  "kernelspec": {
   "display_name": ".venv",
   "language": "python",
   "name": "python3"
  },
  "language_info": {
   "codemirror_mode": {
    "name": "ipython",
    "version": 3
   },
   "file_extension": ".py",
   "mimetype": "text/x-python",
   "name": "python",
   "nbconvert_exporter": "python",
   "pygments_lexer": "ipython3",
   "version": "3.12.7"
  }
 },
 "nbformat": 4,
 "nbformat_minor": 2
}
