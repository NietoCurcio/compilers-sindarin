{
 "cells": [
  {
   "cell_type": "code",
   "execution_count": 69,
   "metadata": {},
   "outputs": [],
   "source": [
    "import graphviz\n",
    "from anytree import Node, RenderTree\n",
    "from anytree.exporter import DotExporter"
   ]
  },
  {
   "cell_type": "code",
   "execution_count": 70,
   "metadata": {},
   "outputs": [],
   "source": [
    "root = Node(\"4\")\n",
    "\n",
    "node2 = Node(\"2\", parent=root)\n",
    "node1 = Node(\"1\", parent=node2)\n",
    "node3 = Node(\"3\", parent=node2)\n",
    "\n",
    "node6 = Node(\"6\", parent=root)\n",
    "# node7 = Node(\"7\", parent=node6) insertion order matters\n",
    "# it creates:\n",
    "#   6\n",
    "#  / \\\n",
    "# 7   5\n",
    "node5 = Node(\"5\", parent=node6)\n",
    "# node5 = Node(\"7\", parent=node6) # we must uniquely identify the node\n",
    "node7 = Node(\"7\", parent=node6)\n",
    "# order of insertion matters\n",
    "# it creates:\n",
    "#   6\n",
    "#  / \\\n",
    "# 5   7\n"
   ]
  },
  {
   "cell_type": "code",
   "execution_count": 71,
   "metadata": {},
   "outputs": [
    {
     "name": "stdout",
     "output_type": "stream",
     "text": [
      "4\n"
     ]
    }
   ],
   "source": [
    "print(root.name)"
   ]
  },
  {
   "cell_type": "code",
   "execution_count": 72,
   "metadata": {},
   "outputs": [
    {
     "name": "stdout",
     "output_type": "stream",
     "text": [
      "4\n",
      "├── 2\n",
      "│   ├── 1\n",
      "│   └── 3\n",
      "└── 6\n",
      "    ├── 5\n",
      "    └── 7\n"
     ]
    }
   ],
   "source": [
    "for pre, fill, node in RenderTree(root):\n",
    "    print(f\"{pre}{node.name}\")"
   ]
  },
  {
   "cell_type": "code",
   "execution_count": 73,
   "metadata": {},
   "outputs": [],
   "source": [
    "def preorder(node):\n",
    "    if not node:\n",
    "        return\n",
    "    print(node.name, end=\" \")\n",
    "    for child in node.children:\n",
    "        preorder(child)\n",
    "\n",
    "\n",
    "def inorder(node):\n",
    "    if not node:\n",
    "        return\n",
    "\n",
    "    children = node.children\n",
    "    if len(children) > 0:\n",
    "        inorder(children[0])\n",
    "    print(node.name, end=\" \")\n",
    "    if len(children) > 1:\n",
    "        inorder(children[1])\n",
    "\n",
    "\n",
    "def postorder(node):\n",
    "    if not node:\n",
    "        return\n",
    "    for child in node.children:\n",
    "        postorder(child)\n",
    "    print(node.name, end=\" \")"
   ]
  },
  {
   "cell_type": "code",
   "execution_count": 74,
   "metadata": {},
   "outputs": [
    {
     "name": "stdout",
     "output_type": "stream",
     "text": [
      "4 2 1 3 6 5 7 "
     ]
    }
   ],
   "source": [
    "preorder(root)"
   ]
  },
  {
   "cell_type": "code",
   "execution_count": 75,
   "metadata": {},
   "outputs": [
    {
     "name": "stdout",
     "output_type": "stream",
     "text": [
      "1 2 3 4 5 6 7 "
     ]
    }
   ],
   "source": [
    "inorder(root)"
   ]
  },
  {
   "cell_type": "code",
   "execution_count": 76,
   "metadata": {},
   "outputs": [
    {
     "name": "stdout",
     "output_type": "stream",
     "text": [
      "1 3 2 5 7 6 4 "
     ]
    }
   ],
   "source": [
    "postorder(root)"
   ]
  },
  {
   "cell_type": "code",
   "execution_count": 77,
   "metadata": {},
   "outputs": [
    {
     "name": "stdout",
     "output_type": "stream",
     "text": [
      "\n",
      "Tree visualization saved as 'tree_visualization.png'\n"
     ]
    }
   ],
   "source": [
    "DotExporter(root).to_picture(\"tree_visualization.png\")\n",
    "print(\"\\nTree visualization saved as 'tree_visualization.png'\")"
   ]
  },
  {
   "cell_type": "code",
   "execution_count": 1,
   "metadata": {},
   "outputs": [
    {
     "ename": "NameError",
     "evalue": "name 'graphviz' is not defined",
     "output_type": "error",
     "traceback": [
      "\u001b[0;31m---------------------------------------------------------------------------\u001b[0m",
      "\u001b[0;31mNameError\u001b[0m                                 Traceback (most recent call last)",
      "Cell \u001b[0;32mIn[1], line 15\u001b[0m\n\u001b[1;32m     11\u001b[0m     dot\u001b[38;5;241m.\u001b[39mrender(\u001b[38;5;124m\"\u001b[39m\u001b[38;5;124mmanual_tree_visualization\u001b[39m\u001b[38;5;124m\"\u001b[39m)\n\u001b[1;32m     12\u001b[0m     \u001b[38;5;28mprint\u001b[39m(\u001b[38;5;124m\"\u001b[39m\u001b[38;5;130;01m\\n\u001b[39;00m\u001b[38;5;124mManual tree visualization saved as \u001b[39m\u001b[38;5;124m'\u001b[39m\u001b[38;5;124mmanual_tree_visualization.png\u001b[39m\u001b[38;5;124m'\u001b[39m\u001b[38;5;124m\"\u001b[39m)\n\u001b[0;32m---> 15\u001b[0m \u001b[43mcreate_graphviz_tree\u001b[49m\u001b[43m(\u001b[49m\u001b[43m)\u001b[49m\n",
      "Cell \u001b[0;32mIn[1], line 2\u001b[0m, in \u001b[0;36mcreate_graphviz_tree\u001b[0;34m()\u001b[0m\n\u001b[1;32m      1\u001b[0m \u001b[38;5;28;01mdef\u001b[39;00m\u001b[38;5;250m \u001b[39m\u001b[38;5;21mcreate_graphviz_tree\u001b[39m():\n\u001b[0;32m----> 2\u001b[0m     dot \u001b[38;5;241m=\u001b[39m \u001b[43mgraphviz\u001b[49m\u001b[38;5;241m.\u001b[39mDigraph(\u001b[38;5;28mformat\u001b[39m\u001b[38;5;241m=\u001b[39m\u001b[38;5;124m\"\u001b[39m\u001b[38;5;124mpng\u001b[39m\u001b[38;5;124m\"\u001b[39m)\n\u001b[1;32m      4\u001b[0m     \u001b[38;5;28;01mdef\u001b[39;00m\u001b[38;5;250m \u001b[39m\u001b[38;5;21madd_nodes_edges\u001b[39m(node: Node):\n\u001b[1;32m      5\u001b[0m         dot\u001b[38;5;241m.\u001b[39mnode(node\u001b[38;5;241m.\u001b[39mname)\n",
      "\u001b[0;31mNameError\u001b[0m: name 'graphviz' is not defined"
     ]
    }
   ],
   "source": [
    "def create_graphviz_tree():\n",
    "    dot = graphviz.Digraph(format=\"png\")\n",
    "\n",
    "    def add_nodes_edges(node: Node):\n",
    "        dot.node(node.name)\n",
    "        for child in node.children:\n",
    "            dot.edge(node.name, child.name)\n",
    "            add_nodes_edges(child)\n",
    "\n",
    "    add_nodes_edges(root)\n",
    "    dot.render(\"manual_tree_visualization\")\n",
    "    print(\"\\nManual tree visualization saved as 'manual_tree_visualization.png'\")\n",
    "\n",
    "\n",
    "create_graphviz_tree()"
   ]
  },
  {
   "cell_type": "code",
   "execution_count": 8,
   "metadata": {},
   "outputs": [
    {
     "name": "stdout",
     "output_type": "stream",
     "text": [
      "3\n",
      "140604446646896\n"
     ]
    }
   ],
   "source": [
    "class A:\n",
    "    def __init__(self):\n",
    "        self.x = [1, 2, 3]\n",
    "\n",
    "    def __len__(self):\n",
    "        return len(self.x)\n",
    "\n",
    "    def __id__(self):\n",
    "        return str(id(self.x)) + \"felipe\"\n",
    "\n",
    "\n",
    "a = A()\n",
    "print(len(a))\n",
    "print(id(a))"
   ]
  }
 ],
 "metadata": {
  "kernelspec": {
   "display_name": ".venv",
   "language": "python",
   "name": "python3"
  },
  "language_info": {
   "codemirror_mode": {
    "name": "ipython",
    "version": 3
   },
   "file_extension": ".py",
   "mimetype": "text/x-python",
   "name": "python",
   "nbconvert_exporter": "python",
   "pygments_lexer": "ipython3",
   "version": "3.12.7"
  }
 },
 "nbformat": 4,
 "nbformat_minor": 2
}
